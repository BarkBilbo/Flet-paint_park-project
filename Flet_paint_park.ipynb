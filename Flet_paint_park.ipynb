{
 "cells": [
  {
   "cell_type": "code",
   "execution_count": 1,
   "id": "7068c728-f2d0-4eb6-ad68-92d8c5edae11",
   "metadata": {
    "tags": []
   },
   "outputs": [],
   "source": [
    "import pandas as pd\n"
   ]
  },
  {
   "cell_type": "code",
   "execution_count": 2,
   "id": "d64a06fe-b830-435a-9ca4-bc8cf5526520",
   "metadata": {
    "tags": []
   },
   "outputs": [
    {
     "data": {
      "text/html": [
       "<div>\n",
       "<style scoped>\n",
       "    .dataframe tbody tr th:only-of-type {\n",
       "        vertical-align: middle;\n",
       "    }\n",
       "\n",
       "    .dataframe tbody tr th {\n",
       "        vertical-align: top;\n",
       "    }\n",
       "\n",
       "    .dataframe thead th {\n",
       "        text-align: right;\n",
       "    }\n",
       "</style>\n",
       "<table border=\"1\" class=\"dataframe\">\n",
       "  <thead>\n",
       "    <tr style=\"text-align: right;\">\n",
       "      <th></th>\n",
       "      <th>계약번호</th>\n",
       "      <th>ca223kp00011249</th>\n",
       "      <th>생산번호</th>\n",
       "      <th>HSE 398476</th>\n",
       "      <th>차대번호</th>\n",
       "      <th>KNANC81BBPS398476</th>\n",
       "    </tr>\n",
       "  </thead>\n",
       "  <tbody>\n",
       "    <tr>\n",
       "      <th>0</th>\n",
       "      <td>차명</td>\n",
       "      <td>카니발</td>\n",
       "      <td>상호</td>\n",
       "      <td>케이비캐피탈주식회사</td>\n",
       "      <td>성명</td>\n",
       "      <td>황**</td>\n",
       "    </tr>\n",
       "    <tr>\n",
       "      <th>1</th>\n",
       "      <td>지점/대리점</td>\n",
       "      <td>동부)고덕대리점</td>\n",
       "      <td>출하일</td>\n",
       "      <td>20231030</td>\n",
       "      <td>발생일</td>\n",
       "      <td>20231103</td>\n",
       "    </tr>\n",
       "    <tr>\n",
       "      <th>2</th>\n",
       "      <td>주행거리</td>\n",
       "      <td>8</td>\n",
       "      <td>부위구분</td>\n",
       "      <td>휀더</td>\n",
       "      <td>불량구분</td>\n",
       "      <td>도장</td>\n",
       "    </tr>\n",
       "    <tr>\n",
       "      <th>3</th>\n",
       "      <td>불량내용</td>\n",
       "      <td>RH)리어 휀더 도장 이물질(15MM), RH)백도어 내부 실링 불량(15MM)</td>\n",
       "      <td>NaN</td>\n",
       "      <td>NaN</td>\n",
       "      <td>NaN</td>\n",
       "      <td>NaN</td>\n",
       "    </tr>\n",
       "  </tbody>\n",
       "</table>\n",
       "</div>"
      ],
      "text/plain": [
       "     계약번호                               ca223kp00011249  생산번호  HSE 398476  \\\n",
       "0      차명                                           카니발    상호  케이비캐피탈주식회사   \n",
       "1  지점/대리점                                      동부)고덕대리점   출하일    20231030   \n",
       "2    주행거리                                             8  부위구분          휀더   \n",
       "3    불량내용  RH)리어 휀더 도장 이물질(15MM), RH)백도어 내부 실링 불량(15MM)   NaN         NaN   \n",
       "\n",
       "   차대번호 KNANC81BBPS398476  \n",
       "0    성명               황**  \n",
       "1   발생일          20231103  \n",
       "2  불량구분                도장  \n",
       "3   NaN               NaN  "
      ]
     },
     "execution_count": 2,
     "metadata": {},
     "output_type": "execute_result"
    }
   ],
   "source": [
    "df = pd.read_excel(\"hwanip_data.xlsx\")\n",
    "df"
   ]
  },
  {
   "cell_type": "markdown",
   "id": "f53bccad-91e2-44ae-b08d-055f8dc601bc",
   "metadata": {},
   "source": [
    "df1 column : 계약번호, 차명, 지점/대리점, 주행거리, 불량내용 (columns)\n",
    "df2 column : 생산번호, 상호, 출하일, 부위구분, NaN\n",
    "df3 column : 차대번호, 성명, 발생일, 불량구분, Nan\n",
    "\n",
    "df4        : df1 + df2 + df3 (row방향으로)   ==> 이렇게 되면 row가 1개가 됨\n",
    "\n"
   ]
  },
  {
   "cell_type": "code",
   "execution_count": 3,
   "id": "596b8ae2-4ff3-40c6-9010-2212cad80f22",
   "metadata": {
    "tags": []
   },
   "outputs": [],
   "source": [
    "df1 = df.iloc[:,:2].T.reset_index()\n",
    "df2 = df.iloc[:,2:4].T.reset_index()\n",
    "df3 = df.iloc[:,4:6].T.reset_index()\n",
    "index_ = [0]"
   ]
  },
  {
   "cell_type": "code",
   "execution_count": 4,
   "id": "21f16db0-b531-4903-94e5-1c8a0ba123fa",
   "metadata": {
    "tags": []
   },
   "outputs": [
    {
     "data": {
      "text/html": [
       "<div>\n",
       "<style scoped>\n",
       "    .dataframe tbody tr th:only-of-type {\n",
       "        vertical-align: middle;\n",
       "    }\n",
       "\n",
       "    .dataframe tbody tr th {\n",
       "        vertical-align: top;\n",
       "    }\n",
       "\n",
       "    .dataframe thead th {\n",
       "        text-align: right;\n",
       "    }\n",
       "</style>\n",
       "<table border=\"1\" class=\"dataframe\">\n",
       "  <thead>\n",
       "    <tr style=\"text-align: right;\">\n",
       "      <th></th>\n",
       "      <th>index</th>\n",
       "      <th>0</th>\n",
       "      <th>1</th>\n",
       "      <th>2</th>\n",
       "      <th>3</th>\n",
       "    </tr>\n",
       "  </thead>\n",
       "  <tbody>\n",
       "    <tr>\n",
       "      <th>0</th>\n",
       "      <td>계약번호</td>\n",
       "      <td>차명</td>\n",
       "      <td>지점/대리점</td>\n",
       "      <td>주행거리</td>\n",
       "      <td>불량내용</td>\n",
       "    </tr>\n",
       "    <tr>\n",
       "      <th>1</th>\n",
       "      <td>ca223kp00011249</td>\n",
       "      <td>카니발</td>\n",
       "      <td>동부)고덕대리점</td>\n",
       "      <td>8</td>\n",
       "      <td>RH)리어 휀더 도장 이물질(15MM), RH)백도어 내부 실링 불량(15MM)</td>\n",
       "    </tr>\n",
       "  </tbody>\n",
       "</table>\n",
       "</div>"
      ],
      "text/plain": [
       "             index    0         1     2  \\\n",
       "0             계약번호   차명    지점/대리점  주행거리   \n",
       "1  ca223kp00011249  카니발  동부)고덕대리점     8   \n",
       "\n",
       "                                              3  \n",
       "0                                          불량내용  \n",
       "1  RH)리어 휀더 도장 이물질(15MM), RH)백도어 내부 실링 불량(15MM)  "
      ]
     },
     "execution_count": 4,
     "metadata": {},
     "output_type": "execute_result"
    }
   ],
   "source": [
    "df1"
   ]
  },
  {
   "cell_type": "code",
   "execution_count": 5,
   "id": "db6b666b-faf8-4cf3-83f1-502ad5c390a3",
   "metadata": {
    "tags": []
   },
   "outputs": [
    {
     "name": "stdout",
     "output_type": "stream",
     "text": [
      "0             계약번호   차명    지점/대리점  주행거리  \\\n",
      "0  ca223kp00011249  카니발  동부)고덕대리점     8   \n",
      "\n",
      "0                                          불량내용  \n",
      "0  RH)리어 휀더 도장 이물질(15MM), RH)백도어 내부 실링 불량(15MM)  \n"
     ]
    }
   ],
   "source": [
    "df111 = pd.DataFrame(columns=df1.iloc[0, :], index = index_, data=[df1.iloc[1, :].values])\n",
    "print(df111)"
   ]
  },
  {
   "cell_type": "code",
   "execution_count": 6,
   "id": "1614b232-7d01-4622-b9d5-83d24f730940",
   "metadata": {
    "tags": []
   },
   "outputs": [],
   "source": [
    "df11 = pd.DataFrame(columns=df1.iloc[0, :], data=[df1.iloc[1, :].values])\n",
    "df22 = pd.DataFrame(columns=df2.iloc[0, :], data=[df2.iloc[1, :].values])\n",
    "df33 = pd.DataFrame(columns=df3.iloc[0, :], data=[df3.iloc[1, :].values])\n"
   ]
  },
  {
   "cell_type": "code",
   "execution_count": 7,
   "id": "0d658756-ba2e-48e7-96e5-c3de071f5254",
   "metadata": {
    "tags": []
   },
   "outputs": [
    {
     "data": {
      "text/html": [
       "<div>\n",
       "<style scoped>\n",
       "    .dataframe tbody tr th:only-of-type {\n",
       "        vertical-align: middle;\n",
       "    }\n",
       "\n",
       "    .dataframe tbody tr th {\n",
       "        vertical-align: top;\n",
       "    }\n",
       "\n",
       "    .dataframe thead th {\n",
       "        text-align: right;\n",
       "    }\n",
       "</style>\n",
       "<table border=\"1\" class=\"dataframe\">\n",
       "  <thead>\n",
       "    <tr style=\"text-align: right;\">\n",
       "      <th></th>\n",
       "      <th>계약번호</th>\n",
       "      <th>차명</th>\n",
       "      <th>지점/대리점</th>\n",
       "      <th>주행거리</th>\n",
       "      <th>불량내용</th>\n",
       "    </tr>\n",
       "  </thead>\n",
       "  <tbody>\n",
       "    <tr>\n",
       "      <th>0</th>\n",
       "      <td>ca223kp00011249</td>\n",
       "      <td>카니발</td>\n",
       "      <td>동부)고덕대리점</td>\n",
       "      <td>8</td>\n",
       "      <td>RH)리어 휀더 도장 이물질(15MM), RH)백도어 내부 실링 불량(15MM)</td>\n",
       "    </tr>\n",
       "  </tbody>\n",
       "</table>\n",
       "</div>"
      ],
      "text/plain": [
       "0             계약번호   차명    지점/대리점  주행거리  \\\n",
       "0  ca223kp00011249  카니발  동부)고덕대리점     8   \n",
       "\n",
       "0                                          불량내용  \n",
       "0  RH)리어 휀더 도장 이물질(15MM), RH)백도어 내부 실링 불량(15MM)  "
      ]
     },
     "execution_count": 7,
     "metadata": {},
     "output_type": "execute_result"
    }
   ],
   "source": [
    "df11"
   ]
  },
  {
   "cell_type": "code",
   "execution_count": 8,
   "id": "7d1a77ce-ab0b-4f60-b60d-31440655128d",
   "metadata": {
    "tags": []
   },
   "outputs": [
    {
     "data": {
      "text/html": [
       "<div>\n",
       "<style scoped>\n",
       "    .dataframe tbody tr th:only-of-type {\n",
       "        vertical-align: middle;\n",
       "    }\n",
       "\n",
       "    .dataframe tbody tr th {\n",
       "        vertical-align: top;\n",
       "    }\n",
       "\n",
       "    .dataframe thead th {\n",
       "        text-align: right;\n",
       "    }\n",
       "</style>\n",
       "<table border=\"1\" class=\"dataframe\">\n",
       "  <thead>\n",
       "    <tr style=\"text-align: right;\">\n",
       "      <th></th>\n",
       "      <th>생산번호</th>\n",
       "      <th>상호</th>\n",
       "      <th>출하일</th>\n",
       "      <th>부위구분</th>\n",
       "      <th>NaN</th>\n",
       "    </tr>\n",
       "  </thead>\n",
       "  <tbody>\n",
       "    <tr>\n",
       "      <th>0</th>\n",
       "      <td>HSE 398476</td>\n",
       "      <td>케이비캐피탈주식회사</td>\n",
       "      <td>20231030</td>\n",
       "      <td>휀더</td>\n",
       "      <td>NaN</td>\n",
       "    </tr>\n",
       "  </tbody>\n",
       "</table>\n",
       "</div>"
      ],
      "text/plain": [
       "0        생산번호          상호       출하일 부위구분  NaN\n",
       "0  HSE 398476  케이비캐피탈주식회사  20231030   휀더  NaN"
      ]
     },
     "execution_count": 8,
     "metadata": {},
     "output_type": "execute_result"
    }
   ],
   "source": [
    "df22"
   ]
  },
  {
   "cell_type": "code",
   "execution_count": 9,
   "id": "a4723d5d-3c1c-4cf9-a24a-c79a59918dc5",
   "metadata": {
    "tags": []
   },
   "outputs": [
    {
     "data": {
      "text/html": [
       "<div>\n",
       "<style scoped>\n",
       "    .dataframe tbody tr th:only-of-type {\n",
       "        vertical-align: middle;\n",
       "    }\n",
       "\n",
       "    .dataframe tbody tr th {\n",
       "        vertical-align: top;\n",
       "    }\n",
       "\n",
       "    .dataframe thead th {\n",
       "        text-align: right;\n",
       "    }\n",
       "</style>\n",
       "<table border=\"1\" class=\"dataframe\">\n",
       "  <thead>\n",
       "    <tr style=\"text-align: right;\">\n",
       "      <th></th>\n",
       "      <th>차대번호</th>\n",
       "      <th>성명</th>\n",
       "      <th>발생일</th>\n",
       "      <th>불량구분</th>\n",
       "      <th>NaN</th>\n",
       "    </tr>\n",
       "  </thead>\n",
       "  <tbody>\n",
       "    <tr>\n",
       "      <th>0</th>\n",
       "      <td>KNANC81BBPS398476</td>\n",
       "      <td>황**</td>\n",
       "      <td>20231103</td>\n",
       "      <td>도장</td>\n",
       "      <td>NaN</td>\n",
       "    </tr>\n",
       "  </tbody>\n",
       "</table>\n",
       "</div>"
      ],
      "text/plain": [
       "0               차대번호   성명       발생일 불량구분  NaN\n",
       "0  KNANC81BBPS398476  황**  20231103   도장  NaN"
      ]
     },
     "execution_count": 9,
     "metadata": {},
     "output_type": "execute_result"
    }
   ],
   "source": [
    "df33"
   ]
  },
  {
   "cell_type": "code",
   "execution_count": 10,
   "id": "c605e32d-3da5-4d17-ab5a-e356ad25ecca",
   "metadata": {
    "tags": []
   },
   "outputs": [
    {
     "data": {
      "text/html": [
       "<div>\n",
       "<style scoped>\n",
       "    .dataframe tbody tr th:only-of-type {\n",
       "        vertical-align: middle;\n",
       "    }\n",
       "\n",
       "    .dataframe tbody tr th {\n",
       "        vertical-align: top;\n",
       "    }\n",
       "\n",
       "    .dataframe thead th {\n",
       "        text-align: right;\n",
       "    }\n",
       "</style>\n",
       "<table border=\"1\" class=\"dataframe\">\n",
       "  <thead>\n",
       "    <tr style=\"text-align: right;\">\n",
       "      <th></th>\n",
       "      <th>계약번호</th>\n",
       "      <th>차명</th>\n",
       "      <th>지점/대리점</th>\n",
       "      <th>주행거리</th>\n",
       "      <th>불량내용</th>\n",
       "      <th>생산번호</th>\n",
       "      <th>상호</th>\n",
       "      <th>출하일</th>\n",
       "      <th>차대번호</th>\n",
       "      <th>성명</th>\n",
       "      <th>발생일</th>\n",
       "    </tr>\n",
       "  </thead>\n",
       "  <tbody>\n",
       "    <tr>\n",
       "      <th>0</th>\n",
       "      <td>ca223kp00011249</td>\n",
       "      <td>카니발</td>\n",
       "      <td>동부)고덕대리점</td>\n",
       "      <td>8</td>\n",
       "      <td>RH)리어 휀더 도장 이물질(15MM), RH)백도어 내부 실링 불량(15MM)</td>\n",
       "      <td>HSE 398476</td>\n",
       "      <td>케이비캐피탈주식회사</td>\n",
       "      <td>20231030</td>\n",
       "      <td>KNANC81BBPS398476</td>\n",
       "      <td>황**</td>\n",
       "      <td>20231103</td>\n",
       "    </tr>\n",
       "  </tbody>\n",
       "</table>\n",
       "</div>"
      ],
      "text/plain": [
       "0             계약번호   차명    지점/대리점  주행거리  \\\n",
       "0  ca223kp00011249  카니발  동부)고덕대리점     8   \n",
       "\n",
       "0                                          불량내용        생산번호          상호  \\\n",
       "0  RH)리어 휀더 도장 이물질(15MM), RH)백도어 내부 실링 불량(15MM)  HSE 398476  케이비캐피탈주식회사   \n",
       "\n",
       "0       출하일               차대번호   성명       발생일  \n",
       "0  20231030  KNANC81BBPS398476  황**  20231103  "
      ]
     },
     "execution_count": 10,
     "metadata": {},
     "output_type": "execute_result"
    }
   ],
   "source": [
    "df_final = pd.concat([df11,df22.iloc[:,:3]], axis = 1)\n",
    "df_final = pd.concat([df_final,df33.iloc[:,:3]], axis =1)\n",
    "df_final"
   ]
  },
  {
   "cell_type": "code",
   "execution_count": 11,
   "id": "1333e6a1-4b61-4abc-9d73-5b9fe6fa3900",
   "metadata": {
    "tags": []
   },
   "outputs": [
    {
     "name": "stdout",
     "output_type": "stream",
     "text": [
      "<class 'pandas.core.frame.DataFrame'>\n",
      "RangeIndex: 1 entries, 0 to 0\n",
      "Data columns (total 11 columns):\n",
      " #   Column  Non-Null Count  Dtype \n",
      "---  ------  --------------  ----- \n",
      " 0   계약번호    1 non-null      object\n",
      " 1   차명      1 non-null      object\n",
      " 2   지점/대리점  1 non-null      object\n",
      " 3   주행거리    1 non-null      int64 \n",
      " 4   불량내용    1 non-null      object\n",
      " 5   생산번호    1 non-null      object\n",
      " 6   상호      1 non-null      object\n",
      " 7   출하일     1 non-null      int64 \n",
      " 8   차대번호    1 non-null      object\n",
      " 9   성명      1 non-null      object\n",
      " 10  발생일     1 non-null      int64 \n",
      "dtypes: int64(3), object(8)\n",
      "memory usage: 220.0+ bytes\n"
     ]
    }
   ],
   "source": [
    "df_final.info()"
   ]
  },
  {
   "cell_type": "code",
   "execution_count": null,
   "id": "0550f227-adba-44ee-bcfa-53687741dd3f",
   "metadata": {},
   "outputs": [],
   "source": []
  }
 ],
 "metadata": {
  "kernelspec": {
   "display_name": "Python 3 (ipykernel)",
   "language": "python",
   "name": "python3"
  },
  "language_info": {
   "codemirror_mode": {
    "name": "ipython",
    "version": 3
   },
   "file_extension": ".py",
   "mimetype": "text/x-python",
   "name": "python",
   "nbconvert_exporter": "python",
   "pygments_lexer": "ipython3",
   "version": "3.11.5"
  }
 },
 "nbformat": 4,
 "nbformat_minor": 5
}
